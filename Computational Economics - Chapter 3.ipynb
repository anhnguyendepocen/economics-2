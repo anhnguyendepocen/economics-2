{
 "metadata": {
  "name": "Computational Economics - Chapter 3"
 },
 "nbformat": 3,
 "nbformat_minor": 0,
 "worksheets": [
  {
   "cells": [
    {
     "cell_type": "markdown",
     "metadata": {},
     "source": [
      "#### Section 3 - Timing Solutions to Linear Equations (Imperative)"
     ]
    },
    {
     "cell_type": "code",
     "collapsed": false,
     "input": [
      "import numpy as np\n",
      "import timeit\n",
      "\n",
      "# Define parameters\n",
      "#n = 5000;\n",
      "n = 500;\n",
      "bound = 300000;\n",
      "\n",
      "# Create matrices\n",
      "A = np.random.random_integers(-bound, bound, (n,n));\n",
      "b = np.random.random_integers(-bound, bound, (n,1));\n",
      "\n",
      "# Linear (Numerical) Solver\n",
      "solve = lambda: np.linalg.solve(A,b);\n",
      "\n",
      "# Solve via Matrix Inversion\n",
      "inv = lambda: np.linalg.inv(A);\n",
      "\n",
      "x = timeit.timeit('solve()', 'from __main__ import solve', number=5)\n",
      "y = timeit.timeit('inv()', 'from __main__ import inv', number=5)\n",
      "\n",
      "print \"Ratio of time-to-complete, Matrix Inversion to Linear Solver:\", y/x"
     ],
     "language": "python",
     "metadata": {},
     "outputs": [
      {
       "output_type": "stream",
       "stream": "stdout",
       "text": [
        "Ratio of time-to-complete, Matrix Inversion to Linear Solver: 4.11213325703\n"
       ]
      }
     ],
     "prompt_number": 2
    },
    {
     "cell_type": "markdown",
     "metadata": {},
     "source": [
      "#### Section 3.1 - Newton's Method (Imperative)\n",
      "\n",
      "Newton's method is a process for finding successively better numerical approximations to the roots of a system of nonlinear equations $f(x) = 0$.\n",
      "\n",
      "In particular, we apply $x_{n+1} = x_{n} - D f(x_n)^{-1}f(x_n)~$ starting from some initial guess until we are as close as we like to the solution (or until we are no longer moving towards a solution).\n",
      "\n",
      "This example has $f: \\mathbb{R}^2 \\to \\mathbb{R}^2$, where: $$f(x,y) = \\begin{bmatrix}\n",
      "x^3(y+3)^2 - sin(x) ~\\\\\\\n",
      "x^2y^2 + x + y - 1\n",
      "\\end{bmatrix}$$\n",
      "\n",
      "First, a contour plot of the solutions:"
     ]
    },
    {
     "cell_type": "code",
     "collapsed": false,
     "input": [
      "import numpy as np;\n",
      "import matplotlib.pyplot as plt;\n",
      "\n",
      "def f(x,y):\n",
      "    return (x**3*(y + 3)**2 - np.sin(x), x**2*y**2 + x + y - 1);\n",
      "def Df(x,y):\n",
      "    J_1_x = 3*x**2*(y + 3)**2 - np.cos(x);\n",
      "    J_1_y = x**3*2*(y + 3);\n",
      "    J_2_x = 2*x*y**2 + 1;\n",
      "    J_2_y = 2*y*x**2 + 1;\n",
      "    return np.matrix([[J_1_x, J_1_y],[J_2_x,J_2_y]]);\n",
      "\n",
      "def draw():\n",
      "    fig = plt.figure(figsize=(5,5));\n",
      "    axes = fig.add_subplot(1,1,1);\n",
      "    \n",
      "    x = np.linspace(-1.5, 1.5, 50);\n",
      "    y = np.linspace(-2.5, 2.5, 50);\n",
      "    X,Y = np.meshgrid(x,y);\n",
      "    Z = f(X,Y);\n",
      "    \n",
      "    cset_1 = axes.contour(X,Y,Z[0],0,linewidths=1, linestyles='dotted', colors='#000000');\n",
      "    cset_2 = axes.contour(X,Y,Z[1],0,linewidths=1, linestyles='-', colors='#000000');\n",
      "    \n",
      "    axes.set_title('Solution sets');\n",
      "    axes.set_xlabel('x');\n",
      "    axes.set_ylabel('y');\n",
      "    \n",
      "    return fig;\n",
      "fig = draw();"
     ],
     "language": "python",
     "metadata": {},
     "outputs": [
      {
       "output_type": "display_data",
       "png": "[encoded data removed]"
      }
     ],
     "prompt_number": 20
    },
    {
     "cell_type": "markdown",
     "metadata": {},
     "source": [
      "Next, use Newton's method to find the solutions analytically. Use $(x_0, y_0) = (0.5, 1), ~ \\varepsilon_h = \\varepsilon_s = 0.000000001;$."
     ]
    },
    {
     "cell_type": "code",
     "collapsed": false,
     "input": [
      "def newton(coord_n, f, Df):\n",
      "  arg = tuple(coord_n.flatten().tolist()[0])\n",
      "  return coord_n - np.linalg.inv(Df(*arg))*np.matrix(f(*arg)).getT();\n",
      "\n",
      "def simulate(coord_0, f, Df):\n",
      "  # Set stopping criteria / max iterations\n",
      "  Tmax = 1000;\n",
      "  eh   = 0.000000001;\n",
      "  es   = 0.000000001;\n",
      "\n",
      "  # Setup model variables\n",
      "  coords = [np.matrix(coord_0).getT()];\n",
      "\n",
      "  # Iterate\n",
      "  while True:\n",
      "    coords.append(\n",
      "      newton(coords[-1], f, Df)\n",
      "    );\n",
      "\n",
      "    # Break out of the iteration if we are close to equilibrium, or aren't moving\n",
      "    if np.linalg.norm(coords[-1]) < es or np.linalg.norm(coords[-1] - coords[-2])/(1 + np.linalg.norm(coords[-1])) < eh:\n",
      "      break;\n",
      "    # Break out of the iteration if we've exceeded max\n",
      "    if len(coords) > Tmax-1:\n",
      "      print 'Stopping criteria not met!';\n",
      "      break;\n",
      "\n",
      "  return coords\n",
      "#run = lambda: simulate((0.5,1), f, Df);\n",
      "#x = timeit.timeit('run()', 'from __main__ import run', number=1)\n",
      "#display(x)\n",
      "\n",
      "results = map(lambda c: c.flatten().tolist()[0], simulate((0.5,1), f, Df));\n",
      "\n",
      "fig = draw();\n",
      "pts = fig.add_subplot(1,1,1).plot(*zip(*results), marker='o', color='gray', ls='', markersize=4);"
     ],
     "language": "python",
     "metadata": {},
     "outputs": [
      {
       "output_type": "display_data",
       "png": "[encoded data removed]"
      }
     ],
     "prompt_number": 23
    },
    {
     "cell_type": "markdown",
     "metadata": {},
     "source": [
      "#### Example 3.2.2 - Ramsey Model w/ Shooting Method"
     ]
    },
    {
     "cell_type": "code",
     "collapsed": false,
     "input": [
      "import numpy as np\n",
      "\n",
      "# Model parameters\n",
      "a = 0.5;  # capital's share of income\n",
      "b = 0.95; # discount rate\n",
      "d = 0.1;  # depreciation rate\n",
      "s = 1.01; # coefficient of relative risk aversion\n",
      "\n",
      "# Steady stata values\n",
      "kss = ((1/b + d - 1)/a)**(1/(a - 1));\n",
      "css = kss**a - d*kss;\n",
      "\n",
      "# Initial and terminal conditions\n",
      "k0 = kss - 1;\n",
      "kT = kss - 0.1;\n",
      "T  = 50;\n",
      "\n",
      "# Functional specifications\n",
      "def u(c):\n",
      "  return (1 / (1 - s)) * (c**(1 - s) - 1);\n",
      "def du(c):\n",
      "  return c**(- s) - (1 / (1 - s));\n",
      "def f(k);\n",
      "  return k**a;\n",
      "def df(k):\n",
      "  return a*(k**(a-1));\n",
      "\n",
      "# Optimality functions\n",
      "def euler(c0, c1, k1):\n",
      "  return du(c0) - b*(1 + df(k1 - d)*du(c1);\n",
      "\n",
      "def cap_accum(c0, k0, k1):\n",
      "  return f(k0) + (1 - d)*k0 - c0 - k1;\n",
      "\n",
      "# Define the non-linear system over x = (c0, ..., cT, k1, ..., kT-1)\n",
      "def F(x):\n",
      "  cc = x[0:T];\n",
      "  kk = [k0] + x[T+2:-1] + [kT];\n",
      "  return map(euler, cc[:-1]) + cc[-1] + map(cap_accum, kk[:-1]) + kk[-1]\n",
      "  \n",
      "# Objective function\n",
      "def G(x):\n",
      "  res = F(x);\n",
      "  return -np.dot(res, res);\n",
      "\n",
      "# Jacobian of G\n",
      "def J(x):\n",
      "  \n",
      "\n",
      "# Hessian of F\n",
      "\n",
      "# Shooting algorithm\n",
      "def simulate():\n",
      "  # Set stopping criteria / max iterations\n",
      "  Tmax = 100;\n",
      "  eh   = 0.000000001;\n",
      "  es   = 0.000000001;\n",
      "\n",
      "  # Setup model variables\n",
      "  x = [0.5]*(T+1) + [0.8]*(T-1);\n",
      "\n",
      "  # Iterate\n",
      "  while True:\n",
      "    \n",
      "\n",
      "    # Break out of the iteration if we are close to equilibrium, or aren't moving\n",
      "    if np.linalg.norm(coords[-1]) < es or np.linalg.norm(coords[-1] - coords[-2])/(1 + np.linalg.norm(coords[-1])) < eh:\n",
      "      break;\n",
      "    # Break out of the iteration if we've exceeded max\n",
      "    if len(coords) > Tmax-1:\n",
      "      print 'Stopping criteria not met!';\n",
      "      break;\n",
      "\n",
      "  return coords\n",
      "results = map(lambda c: c.flatten().tolist()[0], simulate((0.5,1), f, Df));\n",
      "\n",
      "fig = draw();\n",
      "pts = fig.add_subplot(1,1,1).plot(*zip(*results), marker='o', color='gray', ls='', markersize=4);"
     ],
     "language": "python",
     "metadata": {},
     "outputs": []
    }
   ],
   "metadata": {}
  }
 ]
}