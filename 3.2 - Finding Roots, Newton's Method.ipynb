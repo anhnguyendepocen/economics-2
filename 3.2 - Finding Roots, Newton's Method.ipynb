{
 "metadata": {
  "name": "3.2 - Finding Roots, Newton's Method"
 },
 "nbformat": 3,
 "nbformat_minor": 0,
 "worksheets": [
  {
   "cells": [
    {
     "cell_type": "markdown",
     "metadata": {},
     "source": [
      "### Example 3.2 - Finding Roots, Newton's Method\n",
      "\n",
      "Newton's method is a process for finding successively better numerical approximations to the roots of a system of nonlinear equations $f(x) = 0$.\n",
      "\n",
      "We apply $x_{n+1} = x_{n} - D f(x_n)^{-1}f(x_n)~$ starting from some initial guess until we are as close as we like to the solution (or until we are no longer moving towards a solution)."
     ]
    },
    {
     "cell_type": "markdown",
     "metadata": {},
     "source": [
      "#### Functional forms\n",
      "\n",
      "The function of interest is $f: \\mathbb{R}^2 \\to \\mathbb{R}^2$, where:\n",
      "\n",
      "$$f(x,y) = \\begin{bmatrix}\n",
      "x^3(y+3)^2 - sin(x) ~\\\\\\\n",
      "x^2y^2 + x + y - 1\n",
      "\\end{bmatrix}$$"
     ]
    },
    {
     "cell_type": "code",
     "collapsed": false,
     "input": [
      "import numpy as np\n",
      "import sympy as sp\n",
      "from sympy.utilities.lambdify import lambdify\n",
      "\n",
      "x,y = sp.symbols('x y');\n",
      "# The function of interest\n",
      "f = sp.Matrix(\n",
      "    [  x**3*(y + 3)**2 - sp.sin(x),\n",
      "         x**2*y**2 + x + y - 1      ]\n",
      ");\n",
      "# The matrix of first partials\n",
      "Df = f.jacobian([x,y]);\n",
      "\n",
      "# Evaluatable (by numpy) versions of f(.)\n",
      "# (note that the nature of lambdify is that it can't handle vector functions)\n",
      "f1 = lambdify([x,y], f[0], modules='numpy')\n",
      "f2 = lambdify([x,y], f[1], modules='numpy')\n",
      "\n",
      "# Newton stepping function\n",
      "x_n = sp.Matrix([x,y])\n",
      "step = x_n - Df.inv().multiply(f)\n",
      "\n",
      "# Show the functions\n",
      "#display(f)\n",
      "#display(Df)\n",
      "#display(step)"
     ],
     "language": "python",
     "metadata": {},
     "outputs": [],
     "prompt_number": 2
    },
    {
     "cell_type": "markdown",
     "metadata": {},
     "source": [
      "#### Parameters"
     ]
    },
    {
     "cell_type": "code",
     "collapsed": false,
     "input": [
      "# Stopping criteria / max iterations\n",
      "Tmax = 1000;\n",
      "eh   = 0.000000001;\n",
      "es   = 0.000000001;\n",
      "\n",
      "# Initial point\n",
      "coord_0 = np.matrix([[0.5, 1]]) # a row vector"
     ],
     "language": "python",
     "metadata": {},
     "outputs": [],
     "prompt_number": 3
    },
    {
     "cell_type": "markdown",
     "metadata": {},
     "source": [
      "#### Iterate through Newton's Method to convergence"
     ]
    },
    {
     "cell_type": "code",
     "collapsed": false,
     "input": [
      "import timeit\n",
      "\n",
      "def iterate(coords):\n",
      "    while True:\n",
      "        coords = np.append(coords,\n",
      "            # the tuple(.) ought not to be necessary, but it is\n",
      "            np.matrix(tuple(step.subs({x:coords[-1,0], y:coords[-1,1]})), dtype=float),\n",
      "        axis=0)\n",
      "    \n",
      "        # Break out of the iteration if we are sufficiently close to the zero\n",
      "        if np.linalg.norm(coords[-1]) < es:\n",
      "            break;\n",
      "        # Break out of the iteration if we aren't moving anymore\n",
      "        if np.linalg.norm(coords[-1] - coords[-2])/(1 + np.linalg.norm(coords[-1])) < eh:\n",
      "            #print 'Movement has stopped!';\n",
      "            break;\n",
      "        # Break out of the iteration if we've exceeded max\n",
      "        if len(coords) > Tmax-1:\n",
      "            print 'Stopping criteria not met!';\n",
      "            break;\n",
      "    return coords\n",
      "\n",
      "# Run it once to get the coordinates\n",
      "coords = iterate(np.array(coord_0))\n",
      "\n",
      "# Run it again to get the timing\n",
      "time = timeit.timeit('iterate(np.array(coord_0))', 'from __main__ import iterate, np, coord_0', number=1)\n",
      "print \"Newton's method required %d iterations and %f seconds\" % (len(coords), time)\n",
      "print coords[-1].tolist()[0]"
     ],
     "language": "python",
     "metadata": {},
     "outputs": [
      {
       "output_type": "stream",
       "stream": "stdout",
       "text": [
        "Newton's method required 8 iterations and 0.005023 seconds\n",
        "[0.2689307977166127, 0.6960312616671094]\n"
       ]
      }
     ],
     "prompt_number": 13
    },
    {
     "cell_type": "markdown",
     "metadata": {},
     "source": [
      "#### Contour Plot of $f(x,y)$ and the iterations from the method"
     ]
    },
    {
     "cell_type": "code",
     "collapsed": false,
     "input": [
      "import matplotlib.pyplot as plt\n",
      "\n",
      "# Get a coordinate mesh for plotting the contour lines\n",
      "coords_x = np.linspace(-1.5, 1.5, 50);\n",
      "coords_y = np.linspace(-2.5, 2.5, 50);\n",
      "X,Y = np.meshgrid(coords_x,coords_y);\n",
      "\n",
      "# Plot the contour map\n",
      "fig = plt.figure(figsize=(8,8));\n",
      "axes = fig.add_subplot(1,1,1);\n",
      "\n",
      "cset_1 = axes.contour(X, Y, f1(X,Y), 0, linewidths=1, linestyles='dotted', colors='#000000');\n",
      "cset_2 = axes.contour(X, Y, f2(X,Y), 0, linewidths=1, linestyles='-', colors='#000000');\n",
      "\n",
      "axes.set_title('Solution sets');\n",
      "axes.set_xlabel('x');\n",
      "axes.set_ylabel('y');\n",
      "\n",
      "pts = fig.add_subplot(1,1,1).plot(*zip(*coords.tolist()), marker='.', color='red', ls='', markersize=10);"
     ],
     "language": "python",
     "metadata": {},
     "outputs": [
      {
       "ename": "NameError",
       "evalue": "name 'f1' is not defined",
       "output_type": "pyerr",
       "traceback": [
        "\u001b[0;31m---------------------------------------------------------------------------\u001b[0m\n\u001b[0;31mNameError\u001b[0m                                 Traceback (most recent call last)",
        "\u001b[0;32m<ipython-input-2-8c2f1583cc5e>\u001b[0m in \u001b[0;36m<module>\u001b[0;34m()\u001b[0m\n\u001b[1;32m     10\u001b[0m \u001b[0maxes\u001b[0m \u001b[0;34m=\u001b[0m \u001b[0mfig\u001b[0m\u001b[0;34m.\u001b[0m\u001b[0madd_subplot\u001b[0m\u001b[0;34m(\u001b[0m\u001b[0;36m1\u001b[0m\u001b[0;34m,\u001b[0m\u001b[0;36m1\u001b[0m\u001b[0;34m,\u001b[0m\u001b[0;36m1\u001b[0m\u001b[0;34m,\u001b[0m\u001b[0mxmargin\u001b[0m\u001b[0;34m=\u001b[0m\u001b[0;36m0.5\u001b[0m\u001b[0;34m)\u001b[0m\u001b[0;34m;\u001b[0m\u001b[0;34m\u001b[0m\u001b[0m\n\u001b[1;32m     11\u001b[0m \u001b[0;34m\u001b[0m\u001b[0m\n\u001b[0;32m---> 12\u001b[0;31m \u001b[0mcset_1\u001b[0m \u001b[0;34m=\u001b[0m \u001b[0maxes\u001b[0m\u001b[0;34m.\u001b[0m\u001b[0mcontour\u001b[0m\u001b[0;34m(\u001b[0m\u001b[0mX\u001b[0m\u001b[0;34m,\u001b[0m \u001b[0mY\u001b[0m\u001b[0;34m,\u001b[0m \u001b[0mf1\u001b[0m\u001b[0;34m(\u001b[0m\u001b[0mX\u001b[0m\u001b[0;34m,\u001b[0m\u001b[0mY\u001b[0m\u001b[0;34m)\u001b[0m\u001b[0;34m,\u001b[0m \u001b[0;36m0\u001b[0m\u001b[0;34m,\u001b[0m \u001b[0mlinewidths\u001b[0m\u001b[0;34m=\u001b[0m\u001b[0;36m1\u001b[0m\u001b[0;34m,\u001b[0m \u001b[0mlinestyles\u001b[0m\u001b[0;34m=\u001b[0m\u001b[0;34m'dotted'\u001b[0m\u001b[0;34m,\u001b[0m \u001b[0mcolors\u001b[0m\u001b[0;34m=\u001b[0m\u001b[0;34m'#000000'\u001b[0m\u001b[0;34m)\u001b[0m\u001b[0;34m;\u001b[0m\u001b[0;34m\u001b[0m\u001b[0m\n\u001b[0m\u001b[1;32m     13\u001b[0m \u001b[0mcset_2\u001b[0m \u001b[0;34m=\u001b[0m \u001b[0maxes\u001b[0m\u001b[0;34m.\u001b[0m\u001b[0mcontour\u001b[0m\u001b[0;34m(\u001b[0m\u001b[0mX\u001b[0m\u001b[0;34m,\u001b[0m \u001b[0mY\u001b[0m\u001b[0;34m,\u001b[0m \u001b[0mf2\u001b[0m\u001b[0;34m(\u001b[0m\u001b[0mX\u001b[0m\u001b[0;34m,\u001b[0m\u001b[0mY\u001b[0m\u001b[0;34m)\u001b[0m\u001b[0;34m,\u001b[0m \u001b[0;36m0\u001b[0m\u001b[0;34m,\u001b[0m \u001b[0mlinewidths\u001b[0m\u001b[0;34m=\u001b[0m\u001b[0;36m1\u001b[0m\u001b[0;34m,\u001b[0m \u001b[0mlinestyles\u001b[0m\u001b[0;34m=\u001b[0m\u001b[0;34m'-'\u001b[0m\u001b[0;34m,\u001b[0m \u001b[0mcolors\u001b[0m\u001b[0;34m=\u001b[0m\u001b[0;34m'#000000'\u001b[0m\u001b[0;34m)\u001b[0m\u001b[0;34m;\u001b[0m\u001b[0;34m\u001b[0m\u001b[0m\n\u001b[1;32m     14\u001b[0m \u001b[0;34m\u001b[0m\u001b[0m\n",
        "\u001b[0;31mNameError\u001b[0m: name 'f1' is not defined"
       ]
      },
      {
       "output_type": "display_data",
       "png": "[encoded data removed]"
      }
     ],
     "prompt_number": 2
    }
   ],
   "metadata": {}
  }
 ]
}